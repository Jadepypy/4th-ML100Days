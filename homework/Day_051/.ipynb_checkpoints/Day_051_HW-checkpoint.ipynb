{
 "cells": [
  {
   "cell_type": "code",
   "execution_count": 108,
   "metadata": {},
   "outputs": [],
   "source": [
    "import pandas as pd\n",
    "import numpy as np\n",
    "import copy\n",
    "from sklearn.preprocessing import LabelEncoder\n",
    "from sklearn.preprocessing import MinMaxScaler\n",
    "from sklearn.model_selection import cross_val_score\n",
    "from sklearn.linear_model import LogisticRegression, LinearRegression\n",
    "from sklearn.ensemble import GradientBoostingRegressor\n",
    "import matplotlib.pyplot as plt"
   ]
  },
  {
   "cell_type": "code",
   "execution_count": 109,
   "metadata": {},
   "outputs": [],
   "source": [
    "data_path = 'ml100/'\n",
    "df_train = pd.read_csv(data_path + 'train_data.csv')\n",
    "df_test =  pd.read_csv(data_path + 'test_features.csv')\n",
    "LEncoder = LabelEncoder()\n",
    "df_train['poi'] = LEncoder.fit_transform(df_train['poi'])\n"
   ]
  },
  {
   "cell_type": "markdown",
   "metadata": {},
   "source": [
    "## 資料清洗數據前處裡"
   ]
  },
  {
   "cell_type": "code",
   "execution_count": 110,
   "metadata": {},
   "outputs": [],
   "source": [
    "train_Y = df_train['poi']\n",
    "ids = df_test['name']\n",
    "df_train = df_train.drop(['name', 'email_address'] , axis=1)\n",
    "df_test = df_test.drop(['name', 'email_address'] , axis=1)\n",
    "#df = pd.concat([df_train,df_test])\n",
    "#df = df.drop(['email_address'], axis = 1)\n",
    "#df.info()"
   ]
  },
  {
   "cell_type": "markdown",
   "metadata": {},
   "source": [
    "### Check for Outlier (Day 9)"
   ]
  },
  {
   "cell_type": "code",
   "execution_count": 111,
   "metadata": {},
   "outputs": [
    {
     "name": "stdout",
     "output_type": "stream",
     "text": [
      "(array([133.,   0.,   0.,   0.,   0.,   0.,   0.,   0.,   0.,   1.]), array([       0.        ,  9734361.9       , 19468723.8       ,\n",
      "       29203085.7       , 38937447.6       , 48671809.5       ,\n",
      "       58406171.40000001, 68140533.3       , 77874895.2       ,\n",
      "       87609257.10000001, 97343619.        ]), <a list of 10 Patch objects>)\n",
      "(array([121.,   1.,   1.,   0.,   0.,   0.,   0.,   0.,   0.,   1.]), array([ -102500. ,  3116089.6,  6334679.2,  9553268.8, 12771858.4,\n",
      "       15990448. , 19209037.6, 22427627.2, 25646216.8, 28864806.4,\n",
      "       32083396. ]), <a list of 10 Patch objects>)\n",
      "(array([  1.,   0.,   0.,   0.,   0.,   0.,   0.,   0.,   4., 123.]), array([-27992891. , -25193601.9, -22394312.8, -19595023.7, -16795734.6,\n",
      "       -13996445.5, -11197156.4,  -8397867.3,  -5598578.2,  -2799289.1,\n",
      "               0. ]), <a list of 10 Patch objects>)\n",
      "(array([116.,   0.,   0.,   0.,   0.,   0.,   0.,   0.,   0.,   1.]), array([      0. ,  139851.7,  279703.4,  419555.1,  559406.8,  699258.5,\n",
      "        839110.2,  978961.9, 1118813.6, 1258665.3, 1398517. ]), <a list of 10 Patch objects>)\n",
      "(array([132.,   1.,   0.,   0.,   0.,   0.,   0.,   0.,   0.,   1.]), array([0.000000e+00, 3.117640e+07, 6.235280e+07, 9.352920e+07,\n",
      "       1.247056e+08, 1.558820e+08, 1.870584e+08, 2.182348e+08,\n",
      "       2.494112e+08, 2.805876e+08, 3.117640e+08]), <a list of 10 Patch objects>)\n",
      "(array([134.,   0.,   0.,   0.,   0.,   0.,   0.,   0.,   0.,   1.]), array([      0. ,  523519.8, 1047039.6, 1570559.4, 2094079.2, 2617599. ,\n",
      "       3141118.8, 3664638.6, 4188158.4, 4711678.2, 5235198. ]), <a list of 10 Patch objects>)\n",
      "(array([124.,   6.,   1.,   1.,   1.,   0.,   0.,   0.,   0.,   1.]), array([    0. ,  1436.8,  2873.6,  4310.4,  5747.2,  7184. ,  8620.8,\n",
      "       10057.6, 11494.4, 12931.2, 14368. ]), <a list of 10 Patch objects>)\n",
      "(array([104.,  12.,   7.,   5.,   4.,   1.,   0.,   0.,   0.,   1.]), array([  0. ,  52.8, 105.6, 158.4, 211.2, 264. , 316.8, 369.6, 422.4,\n",
      "       475.2, 528. ]), <a list of 10 Patch objects>)\n",
      "(array([121.,   6.,   1.,   2.,   0.,   0.,   3.,   0.,   0.,   1.]), array([  0. ,  60.9, 121.8, 182.7, 243.6, 304.5, 365.4, 426.3, 487.2,\n",
      "       548.1, 609. ]), <a list of 10 Patch objects>)\n",
      "(array([113.,   0.,   0.,   0.,   0.,   0.,   0.,   0.,   0.,   2.]), array([       0.,  8392500., 16785000., 25177500., 33570000., 41962500.,\n",
      "       50355000., 58747500., 67140000., 75532500., 83925000.]), <a list of 10 Patch objects>)\n",
      "(array([128.,   1.,   0.,   0.,   0.,   0.,   0.,   0.,   0.,   1.]), array([       0. ,  4852192.8,  9704385.6, 14556578.4, 19408771.2,\n",
      "       24260964. , 29113156.8, 33965349.6, 38817542.4, 43669735.2,\n",
      "       48521928. ]), <a list of 10 Patch objects>)\n",
      "(array([134.,   1.,   1.,   0.,   0.,   0.,   0.,   0.,   0.,   1.]), array([       0. ,  4266758.9,  8533517.8, 12800276.7, 17067035.6,\n",
      "       21333794.5, 25600553.4, 29867312.3, 34134071.2, 38400830.1,\n",
      "       42667589. ]), <a list of 10 Patch objects>)\n"
     ]
    },
    {
     "name": "stderr",
     "output_type": "stream",
     "text": [
      "/opt/anaconda3/lib/python3.7/site-packages/numpy/lib/histograms.py:839: RuntimeWarning: invalid value encountered in greater_equal\n",
      "  keep = (tmp_a >= first_edge)\n",
      "/opt/anaconda3/lib/python3.7/site-packages/numpy/lib/histograms.py:840: RuntimeWarning: invalid value encountered in less_equal\n",
      "  keep &= (tmp_a <= last_edge)\n"
     ]
    },
    {
     "ename": "KeyError",
     "evalue": "'poi'",
     "output_type": "error",
     "traceback": [
      "\u001b[0;31m---------------------------------------------------------------------------\u001b[0m",
      "\u001b[0;31mKeyError\u001b[0m                                  Traceback (most recent call last)",
      "\u001b[0;32m/opt/anaconda3/lib/python3.7/site-packages/pandas/core/indexes/base.py\u001b[0m in \u001b[0;36mget_loc\u001b[0;34m(self, key, method, tolerance)\u001b[0m\n\u001b[1;32m   2645\u001b[0m             \u001b[0;32mtry\u001b[0m\u001b[0;34m:\u001b[0m\u001b[0;34m\u001b[0m\u001b[0;34m\u001b[0m\u001b[0m\n\u001b[0;32m-> 2646\u001b[0;31m                 \u001b[0;32mreturn\u001b[0m \u001b[0mself\u001b[0m\u001b[0;34m.\u001b[0m\u001b[0m_engine\u001b[0m\u001b[0;34m.\u001b[0m\u001b[0mget_loc\u001b[0m\u001b[0;34m(\u001b[0m\u001b[0mkey\u001b[0m\u001b[0;34m)\u001b[0m\u001b[0;34m\u001b[0m\u001b[0;34m\u001b[0m\u001b[0m\n\u001b[0m\u001b[1;32m   2647\u001b[0m             \u001b[0;32mexcept\u001b[0m \u001b[0mKeyError\u001b[0m\u001b[0;34m:\u001b[0m\u001b[0;34m\u001b[0m\u001b[0;34m\u001b[0m\u001b[0m\n",
      "\u001b[0;32mpandas/_libs/index.pyx\u001b[0m in \u001b[0;36mpandas._libs.index.IndexEngine.get_loc\u001b[0;34m()\u001b[0m\n",
      "\u001b[0;32mpandas/_libs/index.pyx\u001b[0m in \u001b[0;36mpandas._libs.index.IndexEngine.get_loc\u001b[0;34m()\u001b[0m\n",
      "\u001b[0;32mpandas/_libs/hashtable_class_helper.pxi\u001b[0m in \u001b[0;36mpandas._libs.hashtable.PyObjectHashTable.get_item\u001b[0;34m()\u001b[0m\n",
      "\u001b[0;32mpandas/_libs/hashtable_class_helper.pxi\u001b[0m in \u001b[0;36mpandas._libs.hashtable.PyObjectHashTable.get_item\u001b[0;34m()\u001b[0m\n",
      "\u001b[0;31mKeyError\u001b[0m: 'poi'",
      "\nDuring handling of the above exception, another exception occurred:\n",
      "\u001b[0;31mKeyError\u001b[0m                                  Traceback (most recent call last)",
      "\u001b[0;32m<ipython-input-111-5f63258a9884>\u001b[0m in \u001b[0;36m<module>\u001b[0;34m\u001b[0m\n\u001b[1;32m      1\u001b[0m \u001b[0;32mfor\u001b[0m \u001b[0mc\u001b[0m \u001b[0;32min\u001b[0m \u001b[0mdf_train\u001b[0m\u001b[0;34m.\u001b[0m\u001b[0mcolumns\u001b[0m\u001b[0;34m:\u001b[0m\u001b[0;34m\u001b[0m\u001b[0;34m\u001b[0m\u001b[0m\n\u001b[0;32m----> 2\u001b[0;31m     \u001b[0mprint\u001b[0m\u001b[0;34m(\u001b[0m\u001b[0mplt\u001b[0m\u001b[0;34m.\u001b[0m\u001b[0mhist\u001b[0m\u001b[0;34m(\u001b[0m\u001b[0mdf\u001b[0m\u001b[0;34m[\u001b[0m\u001b[0mc\u001b[0m\u001b[0;34m]\u001b[0m\u001b[0;34m)\u001b[0m\u001b[0;34m)\u001b[0m\u001b[0;34m\u001b[0m\u001b[0;34m\u001b[0m\u001b[0m\n\u001b[0m\u001b[1;32m      3\u001b[0m \u001b[0;32mfor\u001b[0m \u001b[0mc\u001b[0m \u001b[0;32min\u001b[0m \u001b[0mdf_train\u001b[0m\u001b[0;34m.\u001b[0m\u001b[0mcolumns\u001b[0m\u001b[0;34m:\u001b[0m\u001b[0;34m\u001b[0m\u001b[0;34m\u001b[0m\u001b[0m\n\u001b[1;32m      4\u001b[0m     \u001b[0mprint\u001b[0m\u001b[0;34m(\u001b[0m\u001b[0mdf\u001b[0m\u001b[0;34m[\u001b[0m\u001b[0mc\u001b[0m\u001b[0;34m]\u001b[0m\u001b[0;34m.\u001b[0m\u001b[0mvalue_counts\u001b[0m\u001b[0;34m(\u001b[0m\u001b[0;34m)\u001b[0m\u001b[0;34m)\u001b[0m\u001b[0;34m\u001b[0m\u001b[0;34m\u001b[0m\u001b[0m\n",
      "\u001b[0;32m/opt/anaconda3/lib/python3.7/site-packages/pandas/core/frame.py\u001b[0m in \u001b[0;36m__getitem__\u001b[0;34m(self, key)\u001b[0m\n\u001b[1;32m   2798\u001b[0m             \u001b[0;32mif\u001b[0m \u001b[0mself\u001b[0m\u001b[0;34m.\u001b[0m\u001b[0mcolumns\u001b[0m\u001b[0;34m.\u001b[0m\u001b[0mnlevels\u001b[0m \u001b[0;34m>\u001b[0m \u001b[0;36m1\u001b[0m\u001b[0;34m:\u001b[0m\u001b[0;34m\u001b[0m\u001b[0;34m\u001b[0m\u001b[0m\n\u001b[1;32m   2799\u001b[0m                 \u001b[0;32mreturn\u001b[0m \u001b[0mself\u001b[0m\u001b[0;34m.\u001b[0m\u001b[0m_getitem_multilevel\u001b[0m\u001b[0;34m(\u001b[0m\u001b[0mkey\u001b[0m\u001b[0;34m)\u001b[0m\u001b[0;34m\u001b[0m\u001b[0;34m\u001b[0m\u001b[0m\n\u001b[0;32m-> 2800\u001b[0;31m             \u001b[0mindexer\u001b[0m \u001b[0;34m=\u001b[0m \u001b[0mself\u001b[0m\u001b[0;34m.\u001b[0m\u001b[0mcolumns\u001b[0m\u001b[0;34m.\u001b[0m\u001b[0mget_loc\u001b[0m\u001b[0;34m(\u001b[0m\u001b[0mkey\u001b[0m\u001b[0;34m)\u001b[0m\u001b[0;34m\u001b[0m\u001b[0;34m\u001b[0m\u001b[0m\n\u001b[0m\u001b[1;32m   2801\u001b[0m             \u001b[0;32mif\u001b[0m \u001b[0mis_integer\u001b[0m\u001b[0;34m(\u001b[0m\u001b[0mindexer\u001b[0m\u001b[0;34m)\u001b[0m\u001b[0;34m:\u001b[0m\u001b[0;34m\u001b[0m\u001b[0;34m\u001b[0m\u001b[0m\n\u001b[1;32m   2802\u001b[0m                 \u001b[0mindexer\u001b[0m \u001b[0;34m=\u001b[0m \u001b[0;34m[\u001b[0m\u001b[0mindexer\u001b[0m\u001b[0;34m]\u001b[0m\u001b[0;34m\u001b[0m\u001b[0;34m\u001b[0m\u001b[0m\n",
      "\u001b[0;32m/opt/anaconda3/lib/python3.7/site-packages/pandas/core/indexes/base.py\u001b[0m in \u001b[0;36mget_loc\u001b[0;34m(self, key, method, tolerance)\u001b[0m\n\u001b[1;32m   2646\u001b[0m                 \u001b[0;32mreturn\u001b[0m \u001b[0mself\u001b[0m\u001b[0;34m.\u001b[0m\u001b[0m_engine\u001b[0m\u001b[0;34m.\u001b[0m\u001b[0mget_loc\u001b[0m\u001b[0;34m(\u001b[0m\u001b[0mkey\u001b[0m\u001b[0;34m)\u001b[0m\u001b[0;34m\u001b[0m\u001b[0;34m\u001b[0m\u001b[0m\n\u001b[1;32m   2647\u001b[0m             \u001b[0;32mexcept\u001b[0m \u001b[0mKeyError\u001b[0m\u001b[0;34m:\u001b[0m\u001b[0;34m\u001b[0m\u001b[0;34m\u001b[0m\u001b[0m\n\u001b[0;32m-> 2648\u001b[0;31m                 \u001b[0;32mreturn\u001b[0m \u001b[0mself\u001b[0m\u001b[0;34m.\u001b[0m\u001b[0m_engine\u001b[0m\u001b[0;34m.\u001b[0m\u001b[0mget_loc\u001b[0m\u001b[0;34m(\u001b[0m\u001b[0mself\u001b[0m\u001b[0;34m.\u001b[0m\u001b[0m_maybe_cast_indexer\u001b[0m\u001b[0;34m(\u001b[0m\u001b[0mkey\u001b[0m\u001b[0;34m)\u001b[0m\u001b[0;34m)\u001b[0m\u001b[0;34m\u001b[0m\u001b[0;34m\u001b[0m\u001b[0m\n\u001b[0m\u001b[1;32m   2649\u001b[0m         \u001b[0mindexer\u001b[0m \u001b[0;34m=\u001b[0m \u001b[0mself\u001b[0m\u001b[0;34m.\u001b[0m\u001b[0mget_indexer\u001b[0m\u001b[0;34m(\u001b[0m\u001b[0;34m[\u001b[0m\u001b[0mkey\u001b[0m\u001b[0;34m]\u001b[0m\u001b[0;34m,\u001b[0m \u001b[0mmethod\u001b[0m\u001b[0;34m=\u001b[0m\u001b[0mmethod\u001b[0m\u001b[0;34m,\u001b[0m \u001b[0mtolerance\u001b[0m\u001b[0;34m=\u001b[0m\u001b[0mtolerance\u001b[0m\u001b[0;34m)\u001b[0m\u001b[0;34m\u001b[0m\u001b[0;34m\u001b[0m\u001b[0m\n\u001b[1;32m   2650\u001b[0m         \u001b[0;32mif\u001b[0m \u001b[0mindexer\u001b[0m\u001b[0;34m.\u001b[0m\u001b[0mndim\u001b[0m \u001b[0;34m>\u001b[0m \u001b[0;36m1\u001b[0m \u001b[0;32mor\u001b[0m \u001b[0mindexer\u001b[0m\u001b[0;34m.\u001b[0m\u001b[0msize\u001b[0m \u001b[0;34m>\u001b[0m \u001b[0;36m1\u001b[0m\u001b[0;34m:\u001b[0m\u001b[0;34m\u001b[0m\u001b[0;34m\u001b[0m\u001b[0m\n",
      "\u001b[0;32mpandas/_libs/index.pyx\u001b[0m in \u001b[0;36mpandas._libs.index.IndexEngine.get_loc\u001b[0;34m()\u001b[0m\n",
      "\u001b[0;32mpandas/_libs/index.pyx\u001b[0m in \u001b[0;36mpandas._libs.index.IndexEngine.get_loc\u001b[0;34m()\u001b[0m\n",
      "\u001b[0;32mpandas/_libs/hashtable_class_helper.pxi\u001b[0m in \u001b[0;36mpandas._libs.hashtable.PyObjectHashTable.get_item\u001b[0;34m()\u001b[0m\n",
      "\u001b[0;32mpandas/_libs/hashtable_class_helper.pxi\u001b[0m in \u001b[0;36mpandas._libs.hashtable.PyObjectHashTable.get_item\u001b[0;34m()\u001b[0m\n",
      "\u001b[0;31mKeyError\u001b[0m: 'poi'"
     ]
    },
    {
     "data": {
      "image/png": "[encoded data removed]",
      "text/plain": [
       "<Figure size 432x288 with 1 Axes>"
      ]
     },
     "metadata": {
      "needs_background": "light"
     },
     "output_type": "display_data"
    }
   ],
   "source": [
    "for c in df_train.columns:\n",
    "    print(plt.hist(df[c]))\n",
    "for c in df_train.columns:\n",
    "    print(df[c].value_counts())"
   ]
  },
  {
   "cell_type": "markdown",
   "metadata": {},
   "source": [
    "## 資料特徵工程技術"
   ]
  },
  {
   "cell_type": "code",
   "execution_count": 112,
   "metadata": {},
   "outputs": [
    {
     "name": "stdout",
     "output_type": "stream",
     "text": [
      "<class 'pandas.core.frame.DataFrame'>\n",
      "RangeIndex: 113 entries, 0 to 112\n",
      "Data columns (total 20 columns):\n",
      " #   Column                     Non-Null Count  Dtype  \n",
      "---  ------                     --------------  -----  \n",
      " 0   bonus                      113 non-null    float64\n",
      " 1   deferral_payments          113 non-null    float64\n",
      " 2   deferred_income            113 non-null    float64\n",
      " 3   director_fees              113 non-null    float64\n",
      " 4   exercised_stock_options    113 non-null    float64\n",
      " 5   expenses                   113 non-null    float64\n",
      " 6   from_messages              113 non-null    float64\n",
      " 7   from_poi_to_this_person    113 non-null    float64\n",
      " 8   from_this_person_to_poi    113 non-null    float64\n",
      " 9   loan_advances              113 non-null    float64\n",
      " 10  long_term_incentive        113 non-null    float64\n",
      " 11  other                      113 non-null    float64\n",
      " 12  poi                        113 non-null    int64  \n",
      " 13  restricted_stock           113 non-null    float64\n",
      " 14  restricted_stock_deferred  113 non-null    float64\n",
      " 15  salary                     113 non-null    float64\n",
      " 16  shared_receipt_with_poi    113 non-null    float64\n",
      " 17  to_messages                113 non-null    float64\n",
      " 18  total_payments             113 non-null    float64\n",
      " 19  total_stock_value          113 non-null    float64\n",
      "dtypes: float64(19), int64(1)\n",
      "memory usage: 17.8 KB\n"
     ]
    }
   ],
   "source": [
    "df_train = df_train.fillna(0)\n",
    "df_test = df_test.fillna(0)\n",
    "#MMEncoder = MinMaxScaler()\n",
    "#train_num = train_Y.shape[0]\n",
    "#df_train.head()\n",
    "df_train.info()"
   ]
  },
  {
   "cell_type": "markdown",
   "metadata": {},
   "source": [
    "### Feature Selection"
   ]
  },
  {
   "cell_type": "code",
   "execution_count": 113,
   "metadata": {},
   "outputs": [
    {
     "data": {
      "image/png": "[encoded data removed]",
      "text/plain": [
       "<Figure size 432x288 with 2 Axes>"
      ]
     },
     "metadata": {
      "needs_background": "light"
     },
     "output_type": "display_data"
    }
   ],
   "source": [
    "import seaborn as sns\n",
    "import matplotlib.pyplot as plt\n",
    "corr = df_train.corr()\n",
    "sns.heatmap(corr)\n",
    "plt.show()"
   ]
  },
  {
   "cell_type": "code",
   "execution_count": 114,
   "metadata": {},
   "outputs": [
    {
     "name": "stdout",
     "output_type": "stream",
     "text": [
      "14\n"
     ]
    }
   ],
   "source": [
    "high_list = list(corr[(corr['poi']>0.1) | (corr['poi']<-0.1)].index)\n",
    "high_list.remove('poi')\n",
    "print(len(high_list))"
   ]
  },
  {
   "cell_type": "code",
   "execution_count": 115,
   "metadata": {},
   "outputs": [
    {
     "name": "stdout",
     "output_type": "stream",
     "text": [
      "<class 'pandas.core.frame.DataFrame'>\n",
      "Int64Index: 146 entries, 0 to 32\n",
      "Data columns (total 19 columns):\n",
      " #   Column                     Non-Null Count  Dtype  \n",
      "---  ------                     --------------  -----  \n",
      " 0   bonus                      146 non-null    float64\n",
      " 1   deferral_payments          146 non-null    float64\n",
      " 2   deferred_income            146 non-null    float64\n",
      " 3   director_fees              146 non-null    float64\n",
      " 4   exercised_stock_options    146 non-null    float64\n",
      " 5   expenses                   146 non-null    float64\n",
      " 6   from_messages              146 non-null    float64\n",
      " 7   from_poi_to_this_person    146 non-null    float64\n",
      " 8   from_this_person_to_poi    146 non-null    float64\n",
      " 9   loan_advances              146 non-null    float64\n",
      " 10  long_term_incentive        146 non-null    float64\n",
      " 11  other                      146 non-null    float64\n",
      " 12  restricted_stock           146 non-null    float64\n",
      " 13  restricted_stock_deferred  146 non-null    float64\n",
      " 14  salary                     146 non-null    float64\n",
      " 15  shared_receipt_with_poi    146 non-null    float64\n",
      " 16  to_messages                146 non-null    float64\n",
      " 17  total_payments             146 non-null    float64\n",
      " 18  total_stock_value          146 non-null    float64\n",
      "dtypes: float64(19)\n",
      "memory usage: 22.8 KB\n"
     ]
    }
   ],
   "source": [
    "df_train = df_train.drop(['poi'], axis = 1)\n",
    "df = pd.concat([df_train,df_test])\n",
    "df.info()"
   ]
  },
  {
   "cell_type": "code",
   "execution_count": 116,
   "metadata": {},
   "outputs": [
    {
     "data": {
      "text/plain": [
       "-0.2600000000000001"
      ]
     },
     "execution_count": 116,
     "metadata": {},
     "output_type": "execute_result"
    }
   ],
   "source": [
    "df_mm = MMEncoder.fit_transform(df[high_list])\n",
    "train_X = df_mm[:train_num]\n",
    "estimator = GradientBoostingRegressor()\n",
    "cross_val_score(estimator, train_X, train_Y, cv=5).mean()"
   ]
  },
  {
   "cell_type": "code",
   "execution_count": 117,
   "metadata": {},
   "outputs": [],
   "source": [
    "estimator.fit(df_mm[:train_num], train_Y)\n",
    "pred = estimator.predict(df_mm[train_num:])\n",
    "sub = pd.DataFrame({'name': ids, 'poi': pred})\n",
    "sub.to_csv('kaggle_submission.csv', index=False) \n",
    "sub\n"
   ]
  },
  {
   "cell_type": "markdown",
   "metadata": {},
   "source": [
    "## 機器學習基礎模型"
   ]
  },
  {
   "cell_type": "markdown",
   "metadata": {},
   "source": [
    "## 機器學習調整參數"
   ]
  },
  {
   "cell_type": "markdown",
   "metadata": {},
   "source": [
    "•如何處理理存在各種缺陷的真實資料\n",
    "•使⽤用 val / test data 來來了了解機器學習模型的訓練情形\n",
    "•使⽤用適當的評估函數了了解預測結果\n",
    "•應⽤用適當的特徵⼯工程提升模型的準確率\n",
    "•調整機器學習模型的超參參數來來提升準確率\n",
    "•清楚的說明⽂文件讓別⼈人了了解你的成果\n"
   ]
  },
  {
   "cell_type": "code",
   "execution_count": null,
   "metadata": {},
   "outputs": [],
   "source": []
  },
  {
   "cell_type": "code",
   "execution_count": null,
   "metadata": {},
   "outputs": [],
   "source": []
  }
 ],
 "metadata": {
  "kernelspec": {
   "display_name": "Python 3",
   "language": "python",
   "name": "python3"
  },
  "language_info": {
   "codemirror_mode": {
    "name": "ipython",
    "version": 3
   },
   "file_extension": ".py",
   "mimetype": "text/x-python",
   "name": "python",
   "nbconvert_exporter": "python",
   "pygments_lexer": "ipython3",
   "version": "3.7.6"
  }
 },
 "nbformat": 4,
 "nbformat_minor": 4
}
